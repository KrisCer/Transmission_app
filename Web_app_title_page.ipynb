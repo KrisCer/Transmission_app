{
 "cells": [
  {
   "cell_type": "markdown",
   "metadata": {},
   "source": [
    "# TBETA (Tight-binding electronic transport application) for graphene nanoribbon junctions"
   ]
  },
  {
   "cell_type": "code",
   "execution_count": 1,
   "metadata": {},
   "outputs": [
    {
     "data": {
      "application/vnd.jupyter.widget-view+json": {
       "model_id": "55cfd2bcc79f4420a70417a688a4d64f",
       "version_major": 2,
       "version_minor": 0
      },
      "text/plain": [
       "Accordion(children=(HTML(value=\"This application gives you a graphical interface that let's you design a Graph…"
      ]
     },
     "metadata": {},
     "output_type": "display_data"
    }
   ],
   "source": [
    "import ipywidgets as widgets\n",
    "accordion = widgets.Accordion(children=[widgets.HTML(value=\"<b>TBETA</b> gives you a simple graphical interface that let's you design a two-terminal Graphene nanoribbon (GNR) junction with a 60°, 120° or 180°, angle between the leads. Afterwards calculate it's transport and electronic properties based on nearest-neighbour tight-binding model. Conductance is expressed within Landauer formalism and calculated using Green's function methods.\"),\n",
    "                                        widgets.HTML(value=\"<b>To design your junction:</b> <br /> 1)Select the desired width, distance, chirality. shift and angle between your selected GNR leads <br /> 2)Single atoms can be removed from the initial scattering center by entering the coresponding atom number(s) and then pressing the <i>'Remove atoms'</i> button <br /> 3)If you want to revert back to the original system with no atoms removed, press <i>'Reset system'</i> <br /> <b>Once you are happy with the design of your junction:</b> <br />1)conductance and density of states (DOS) can be calculated in a selected energy window by adjusting the <i>'min'</i> and <i>'max'</i> energy values <br />2)You can recalculate the properties in a new energy window by pressing the <i>'Calculate'</i> button again <br />3)Single energy properties (local density of states, current map and wavefunction in the lead) are displayed by entering an energy value in terms of the hopping integral <i>t</i>\") ,\n",
    "                                        widgets.HTML(value=\"The numerical calculations are performed using the Kwant code: C. W. Groth, M. Wimmer, A. R. Akhmerov, X. Waintal, Kwant: a software package for quantum transport, New J. Phys. 16, 063065 (2014).\")])\n",
    "accordion.set_title(0, 'About')\n",
    "accordion.set_title(1, 'Instructions')\n",
    "accordion.set_title(2, 'Acknowledgments')\n",
    "accordion"
   ]
  },
  {
   "cell_type": "markdown",
   "metadata": {},
   "source": []
  },
  {
   "cell_type": "markdown",
   "metadata": {},
   "source": [
    "[Start the application](/voila/render/Documents/GNR/web_app_voila.ipynb)"
   ]
  },
  {
   "cell_type": "code",
   "execution_count": null,
   "metadata": {},
   "outputs": [],
   "source": []
  },
  {
   "cell_type": "code",
   "execution_count": null,
   "metadata": {},
   "outputs": [],
   "source": []
  },
  {
   "cell_type": "code",
   "execution_count": null,
   "metadata": {},
   "outputs": [],
   "source": []
  },
  {
   "cell_type": "code",
   "execution_count": null,
   "metadata": {},
   "outputs": [],
   "source": []
  }
 ],
 "metadata": {
  "kernelspec": {
   "display_name": "Python 3",
   "language": "python",
   "name": "python3"
  },
  "language_info": {
   "codemirror_mode": {
    "name": "ipython",
    "version": 3
   },
   "file_extension": ".py",
   "mimetype": "text/x-python",
   "name": "python",
   "nbconvert_exporter": "python",
   "pygments_lexer": "ipython3",
   "version": "3.7.3"
  }
 },
 "nbformat": 4,
 "nbformat_minor": 2
}
