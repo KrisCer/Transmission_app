{
 "cells": [
  {
   "cell_type": "markdown",
   "metadata": {},
   "source": [
    "# Tight-binding based transport application for graphene nanoribbon junctions\n"
   ]
  },
  {
   "cell_type": "code",
   "execution_count": 40,
   "metadata": {},
   "outputs": [
    {
     "data": {
      "application/vnd.jupyter.widget-view+json": {
       "model_id": "2955bf9316aa4c4d9af209beb3fcf76f",
       "version_major": 2,
       "version_minor": 0
      },
      "text/plain": [
       "Accordion(children=(HTML(value=\"This application gives you a graphical interface that let's you design a Graph…"
      ]
     },
     "metadata": {},
     "output_type": "display_data"
    }
   ],
   "source": [
    "import ipywidgets as widgets\n",
    "accordion = widgets.Accordion(children=[widgets.HTML(value=\"This application gives you a graphical interface that let's you design a Graphene nanoribbon (GNR) junction and calculate it's transport and electronic properties. Conductance is expressed within Landauer formalism and calculated using Tight-Binding model and Green's functions.\"),\n",
    "                                        widgets.HTML(value=\"To design your junction, select the desired width, distance and angle between your selected GNR leads. Single atoms can be removed from the initial scattering center by entering the coresponding atom number(s) and then pressing the 'Remove atoms' button. If you want to revert back to the original system with no atoms removed, press 'Reset system'. Once you are happy with the design of your junction, conductance and density of states (DOS) can be calculated in a selected energy window by adjusting the 'min' and 'max' energy values. You can recalculate the properties in a new energy window by pressing the 'Calculate' button again. Single energy properties (local density of states, current map and wavefunction in the lead) are displayed by entering an energy value, decimal numbers are an accepted input.\") ,\n",
    "                                        widgets.HTML(value=\"The numerical calculations are performed using the Kwant code: C. W. Groth, M. Wimmer, A. R. Akhmerov, X. Waintal, Kwant: a software package for quantum transport, New J. Phys. 16, 063065 (2014).\")])\n",
    "accordion.set_title(0, 'About')\n",
    "accordion.set_title(1, 'Instructions')\n",
    "accordion.set_title(2, 'Acknowledgments')\n",
    "accordion"
   ]
  },
  {
   "cell_type": "markdown",
   "metadata": {},
   "source": []
  },
  {
   "cell_type": "markdown",
   "metadata": {},
   "source": [
    "[Start the application](/voila/render/Documents/GNR/web_app_voila.ipynb)"
   ]
  },
  {
   "cell_type": "code",
   "execution_count": null,
   "metadata": {},
   "outputs": [],
   "source": []
  },
  {
   "cell_type": "code",
   "execution_count": null,
   "metadata": {},
   "outputs": [],
   "source": []
  },
  {
   "cell_type": "code",
   "execution_count": null,
   "metadata": {},
   "outputs": [],
   "source": []
  },
  {
   "cell_type": "code",
   "execution_count": null,
   "metadata": {},
   "outputs": [],
   "source": []
  }
 ],
 "metadata": {
  "kernelspec": {
   "display_name": "Python 3",
   "language": "python",
   "name": "python3"
  },
  "language_info": {
   "codemirror_mode": {
    "name": "ipython",
    "version": 3
   },
   "file_extension": ".py",
   "mimetype": "text/x-python",
   "name": "python",
   "nbconvert_exporter": "python",
   "pygments_lexer": "ipython3",
   "version": "3.7.3"
  }
 },
 "nbformat": 4,
 "nbformat_minor": 2
}
